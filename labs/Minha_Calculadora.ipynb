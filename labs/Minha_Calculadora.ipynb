{
 "cells": [
  {
   "cell_type": "code",
   "execution_count": 27,
   "metadata": {},
   "outputs": [
    {
     "name": "stdout",
     "output_type": "stream",
     "text": [
      "1 - Soma \n",
      "2 - Subtração \n",
      "3 - Multiplicação \n",
      "4 - Divisão\n",
      "Digite sua opção: (1/2/3/4):5\n",
      "Digite o primeiro número:1\n",
      "Digite o segundo número:5\n",
      "Opção Inválida!\n"
     ]
    }
   ],
   "source": [
    "print('1 - Soma \\n2 - Subtração \\n3 - Multiplicação \\n4 - Divisão')\n",
    "\n",
    "opcao = input('Digite sua opção: (1/2/3/4):')\n",
    "\n",
    "numero1 = int(input('Digite o primeiro número:'))\n",
    "numero2 = int(input('Digite o segundo número:'))\n",
    "\n",
    "if opcao == '1':\n",
    "    resultado = numero1 + numero2\n",
    "    print(str(numero1) + ' + ' + str(numero2) + ' = ' + str(resultado))\n",
    "elif opcao == '2':\n",
    "    resultado = numero1 - numero2\n",
    "    print(str(numero1) + ' - ' + str(numero2) + ' = ' + str(resultado))\n",
    "elif opcao == '3':\n",
    "    resultado = numero1 * numero2    \n",
    "    print(str(numero1) + ' * ' + str(numero2) + ' = ' + str(resultado))\n",
    "elif opcao == '4':\n",
    "    resultado = numero1 / numero2    \n",
    "    print(str(numero1) + ' / ' + str(numero2) + ' = ' + str(resultado))\n",
    "else:\n",
    "    print('Opção Inválida!')  \n",
    "    \n",
    "\n"
   ]
  },
  {
   "cell_type": "code",
   "execution_count": null,
   "metadata": {},
   "outputs": [],
   "source": []
  },
  {
   "cell_type": "code",
   "execution_count": null,
   "metadata": {},
   "outputs": [],
   "source": []
  }
 ],
 "metadata": {
  "kernelspec": {
   "display_name": "Python 3",
   "language": "python",
   "name": "python3"
  },
  "language_info": {
   "codemirror_mode": {
    "name": "ipython",
    "version": 3
   },
   "file_extension": ".py",
   "mimetype": "text/x-python",
   "name": "python",
   "nbconvert_exporter": "python",
   "pygments_lexer": "ipython3",
   "version": "3.8.5"
  }
 },
 "nbformat": 4,
 "nbformat_minor": 4
}
